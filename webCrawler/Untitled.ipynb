{
 "cells": [
  {
   "cell_type": "code",
   "execution_count": 1,
   "id": "f7126a4c",
   "metadata": {},
   "outputs": [
    {
     "name": "stderr",
     "output_type": "stream",
     "text": [
      "2022-05-05 15:21:52.410525: W tensorflow/stream_executor/platform/default/dso_loader.cc:64] Could not load dynamic library 'libcudart.so.11.0'; dlerror: libcudart.so.11.0: cannot open shared object file: No such file or directory; LD_LIBRARY_PATH: /opt/ros/melodic/lib\n",
      "2022-05-05 15:21:52.410554: I tensorflow/stream_executor/cuda/cudart_stub.cc:29] Ignore above cudart dlerror if you do not have a GPU set up on your machine.\n"
     ]
    },
    {
     "name": "stdout",
     "output_type": "stream",
     "text": [
      "2.8.0\n"
     ]
    }
   ],
   "source": [
    "import tensorflow as tf\n",
    "from tensorflow import keras\n",
    "\n",
    "import numpy as np\n",
    "\n",
    "print(tf.__version__)"
   ]
  },
  {
   "cell_type": "code",
   "execution_count": 2,
   "id": "29f7a0d3",
   "metadata": {},
   "outputs": [
    {
     "name": "stdout",
     "output_type": "stream",
     "text": [
      "Downloading data from https://storage.googleapis.com/tensorflow/tf-keras-datasets/imdb.npz\n",
      "17465344/17464789 [==============================] - 3s 0us/step\n",
      "17473536/17464789 [==============================] - 3s 0us/step\n"
     ]
    }
   ],
   "source": [
    "imdb = keras.datasets.imdb\n",
    "\n",
    "(train_data, train_labels), (test_data, test_labels) = imdb.load_data(num_words=10000)"
   ]
  },
  {
   "cell_type": "code",
   "execution_count": 3,
   "id": "6ec919e1",
   "metadata": {},
   "outputs": [
    {
     "name": "stdout",
     "output_type": "stream",
     "text": [
      "훈련 샘플: 25000, 레이블: 25000\n"
     ]
    }
   ],
   "source": [
    "print(\"훈련 샘플: {}, 레이블: {}\".format(len(train_data), len(train_labels)))"
   ]
  },
  {
   "cell_type": "code",
   "execution_count": 4,
   "id": "d178c600",
   "metadata": {},
   "outputs": [
    {
     "name": "stdout",
     "output_type": "stream",
     "text": [
      "[1, 14, 22, 16, 43, 530, 973, 1622, 1385, 65, 458, 4468, 66, 3941, 4, 173, 36, 256, 5, 25, 100, 43, 838, 112, 50, 670, 2, 9, 35, 480, 284, 5, 150, 4, 172, 112, 167, 2, 336, 385, 39, 4, 172, 4536, 1111, 17, 546, 38, 13, 447, 4, 192, 50, 16, 6, 147, 2025, 19, 14, 22, 4, 1920, 4613, 469, 4, 22, 71, 87, 12, 16, 43, 530, 38, 76, 15, 13, 1247, 4, 22, 17, 515, 17, 12, 16, 626, 18, 2, 5, 62, 386, 12, 8, 316, 8, 106, 5, 4, 2223, 5244, 16, 480, 66, 3785, 33, 4, 130, 12, 16, 38, 619, 5, 25, 124, 51, 36, 135, 48, 25, 1415, 33, 6, 22, 12, 215, 28, 77, 52, 5, 14, 407, 16, 82, 2, 8, 4, 107, 117, 5952, 15, 256, 4, 2, 7, 3766, 5, 723, 36, 71, 43, 530, 476, 26, 400, 317, 46, 7, 4, 2, 1029, 13, 104, 88, 4, 381, 15, 297, 98, 32, 2071, 56, 26, 141, 6, 194, 7486, 18, 4, 226, 22, 21, 134, 476, 26, 480, 5, 144, 30, 5535, 18, 51, 36, 28, 224, 92, 25, 104, 4, 226, 65, 16, 38, 1334, 88, 12, 16, 283, 5, 16, 4472, 113, 103, 32, 15, 16, 5345, 19, 178, 32]\n"
     ]
    }
   ],
   "source": [
    "print(train_data[0])"
   ]
  },
  {
   "cell_type": "code",
   "execution_count": 6,
   "id": "3dfd639d",
   "metadata": {},
   "outputs": [
    {
     "name": "stdout",
     "output_type": "stream",
     "text": [
      "Downloading data from https://storage.googleapis.com/tensorflow/tf-keras-datasets/imdb_word_index.json\n",
      "1646592/1641221 [==============================] - 1s 0us/step\n",
      "1654784/1641221 [==============================] - 1s 0us/step\n"
     ]
    }
   ],
   "source": [
    "# 단어와 정수 인덱스를 매핑한 딕셔너리\n",
    "word_index = imdb.get_word_index()\n",
    "\n",
    "# 처음 몇 개 인덱스는 사전에 정의되어 있습니다\n",
    "word_index = {k:(v+3) for k,v in word_index.items()}\n",
    "word_index[\"<PAD>\"] = 0\n",
    "word_index[\"<START>\"] = 1\n",
    "word_index[\"<UNK>\"] = 2  # unknown\n",
    "word_index[\"<UNUSED>\"] = 3\n",
    "\n",
    "reverse_word_index = dict([(value, key) for (key, value) in word_index.items()])\n",
    "\n",
    "def decode_review(text):\n",
    "    return ' '.join([reverse_word_index.get(i, '?') for i in text])"
   ]
  },
  {
   "cell_type": "code",
   "execution_count": 7,
   "id": "ac4e9056",
   "metadata": {},
   "outputs": [
    {
     "data": {
      "text/plain": [
       "\"<START> this film was just brilliant casting location scenery story direction everyone's really suited the part they played and you could just imagine being there robert <UNK> is an amazing actor and now the same being director <UNK> father came from the same scottish island as myself so i loved the fact there was a real connection with this film the witty remarks throughout the film were great it was just brilliant so much that i bought the film as soon as it was released for <UNK> and would recommend it to everyone to watch and the fly fishing was amazing really cried at the end it was so sad and you know what they say if you cry at a film it must have been good and this definitely was also <UNK> to the two little boy's that played the <UNK> of norman and paul they were just brilliant children are often left out of the <UNK> list i think because the stars that play them all grown up are such a big profile for the whole film but these children are amazing and should be praised for what they have done don't you think the whole story was so lovely because it was true and was someone's life after all that was shared with us all\""
      ]
     },
     "execution_count": 7,
     "metadata": {},
     "output_type": "execute_result"
    }
   ],
   "source": [
    "decode_review(train_data[0])"
   ]
  },
  {
   "cell_type": "code",
   "execution_count": 9,
   "id": "59f747b1",
   "metadata": {},
   "outputs": [],
   "source": [
    "train_data = keras.preprocessing.sequence.pad_sequences(train_data,\n",
    "                                                        value=word_index[\"<PAD>\"],\n",
    "                                                        padding='post',\n",
    "                                                        maxlen=256)\n",
    "\n",
    "test_data = keras.preprocessing.sequence.pad_sequences(test_data,\n",
    "                                                       value=word_index[\"<PAD>\"],\n",
    "                                                       padding='post',\n",
    "                                                       maxlen=256)"
   ]
  },
  {
   "cell_type": "code",
   "execution_count": 12,
   "id": "b8b4817b",
   "metadata": {},
   "outputs": [
    {
     "name": "stdout",
     "output_type": "stream",
     "text": [
      "Model: \"sequential\"\n",
      "_________________________________________________________________\n",
      " Layer (type)                Output Shape              Param #   \n",
      "=================================================================\n",
      " embedding (Embedding)       (None, None, 16)          160000    \n",
      "                                                                 \n",
      " global_average_pooling1d (G  (None, 16)               0         \n",
      " lobalAveragePooling1D)                                          \n",
      "                                                                 \n",
      " dense (Dense)               (None, 16)                272       \n",
      "                                                                 \n",
      " dense_1 (Dense)             (None, 1)                 17        \n",
      "                                                                 \n",
      "=================================================================\n",
      "Total params: 160,289\n",
      "Trainable params: 160,289\n",
      "Non-trainable params: 0\n",
      "_________________________________________________________________\n"
     ]
    },
    {
     "name": "stderr",
     "output_type": "stream",
     "text": [
      "2022-05-05 15:33:22.016335: W tensorflow/stream_executor/platform/default/dso_loader.cc:64] Could not load dynamic library 'libcuda.so.1'; dlerror: libcuda.so.1: cannot open shared object file: No such file or directory; LD_LIBRARY_PATH: /opt/ros/melodic/lib\n",
      "2022-05-05 15:33:22.016401: W tensorflow/stream_executor/cuda/cuda_driver.cc:269] failed call to cuInit: UNKNOWN ERROR (303)\n",
      "2022-05-05 15:33:22.016433: I tensorflow/stream_executor/cuda/cuda_diagnostics.cc:156] kernel driver does not appear to be running on this host (kimdj-940X5N): /proc/driver/nvidia/version does not exist\n",
      "2022-05-05 15:33:22.017552: I tensorflow/core/platform/cpu_feature_guard.cc:151] This TensorFlow binary is optimized with oneAPI Deep Neural Network Library (oneDNN) to use the following CPU instructions in performance-critical operations:  AVX2 FMA\n",
      "To enable them in other operations, rebuild TensorFlow with the appropriate compiler flags.\n"
     ]
    }
   ],
   "source": [
    "# 입력 크기는 영화 리뷰 데이터셋에 적용된 어휘 사전의 크기입니다(10,000개의 단어)\n",
    "vocab_size = 10000\n",
    "\n",
    "model = keras.Sequential()\n",
    "model.add(keras.layers.Embedding(vocab_size, 16, input_shape=(None,)))\n",
    "model.add(keras.layers.GlobalAveragePooling1D())\n",
    "model.add(keras.layers.Dense(16, activation='relu'))\n",
    "model.add(keras.layers.Dense(1, activation='sigmoid'))\n",
    "\n",
    "model.summary()"
   ]
  },
  {
   "cell_type": "code",
   "execution_count": 13,
   "id": "aa1d3f85",
   "metadata": {},
   "outputs": [],
   "source": [
    "model.compile(optimizer='adam',\n",
    "              loss='binary_crossentropy',\n",
    "              metrics=['accuracy'])"
   ]
  },
  {
   "cell_type": "code",
   "execution_count": 14,
   "id": "f98aa09f",
   "metadata": {},
   "outputs": [],
   "source": [
    "x_val = train_data[:10000]\n",
    "partial_x_train = train_data[10000:]\n",
    "\n",
    "y_val = train_labels[:10000]\n",
    "partial_y_train = train_labels[10000:]"
   ]
  },
  {
   "cell_type": "code",
   "execution_count": 15,
   "id": "17fd317d",
   "metadata": {
    "scrolled": true
   },
   "outputs": [
    {
     "name": "stdout",
     "output_type": "stream",
     "text": [
      "Epoch 1/40\n",
      "30/30 [==============================] - 1s 18ms/step - loss: 0.6921 - accuracy: 0.5659 - val_loss: 0.6904 - val_accuracy: 0.6411\n",
      "Epoch 2/40\n",
      "30/30 [==============================] - 0s 16ms/step - loss: 0.6877 - accuracy: 0.6890 - val_loss: 0.6847 - val_accuracy: 0.7136\n",
      "Epoch 3/40\n",
      "30/30 [==============================] - 0s 13ms/step - loss: 0.6792 - accuracy: 0.7200 - val_loss: 0.6738 - val_accuracy: 0.7054\n",
      "Epoch 4/40\n",
      "30/30 [==============================] - 0s 15ms/step - loss: 0.6639 - accuracy: 0.7269 - val_loss: 0.6560 - val_accuracy: 0.7603\n",
      "Epoch 5/40\n",
      "30/30 [==============================] - 0s 15ms/step - loss: 0.6405 - accuracy: 0.7746 - val_loss: 0.6302 - val_accuracy: 0.7781\n",
      "Epoch 6/40\n",
      "30/30 [==============================] - 0s 14ms/step - loss: 0.6086 - accuracy: 0.7990 - val_loss: 0.5982 - val_accuracy: 0.7615\n",
      "Epoch 7/40\n",
      "30/30 [==============================] - 1s 17ms/step - loss: 0.5707 - accuracy: 0.8131 - val_loss: 0.5616 - val_accuracy: 0.7896\n",
      "Epoch 8/40\n",
      "30/30 [==============================] - 1s 22ms/step - loss: 0.5294 - accuracy: 0.8327 - val_loss: 0.5232 - val_accuracy: 0.8154\n",
      "Epoch 9/40\n",
      "30/30 [==============================] - 1s 21ms/step - loss: 0.4861 - accuracy: 0.8509 - val_loss: 0.4840 - val_accuracy: 0.8352\n",
      "Epoch 10/40\n",
      "30/30 [==============================] - 0s 15ms/step - loss: 0.4442 - accuracy: 0.8633 - val_loss: 0.4491 - val_accuracy: 0.8459\n",
      "Epoch 11/40\n",
      "30/30 [==============================] - 0s 16ms/step - loss: 0.4062 - accuracy: 0.8744 - val_loss: 0.4180 - val_accuracy: 0.8509\n",
      "Epoch 12/40\n",
      "30/30 [==============================] - 0s 14ms/step - loss: 0.3733 - accuracy: 0.8806 - val_loss: 0.3928 - val_accuracy: 0.8577\n",
      "Epoch 13/40\n",
      "30/30 [==============================] - 1s 17ms/step - loss: 0.3453 - accuracy: 0.8885 - val_loss: 0.3720 - val_accuracy: 0.8630\n",
      "Epoch 14/40\n",
      "30/30 [==============================] - 0s 13ms/step - loss: 0.3221 - accuracy: 0.8937 - val_loss: 0.3569 - val_accuracy: 0.8651\n",
      "Epoch 15/40\n",
      "30/30 [==============================] - 0s 13ms/step - loss: 0.3018 - accuracy: 0.8986 - val_loss: 0.3417 - val_accuracy: 0.8692\n",
      "Epoch 16/40\n",
      "30/30 [==============================] - 1s 17ms/step - loss: 0.2840 - accuracy: 0.9037 - val_loss: 0.3306 - val_accuracy: 0.8738\n",
      "Epoch 17/40\n",
      "30/30 [==============================] - 1s 20ms/step - loss: 0.2688 - accuracy: 0.9079 - val_loss: 0.3220 - val_accuracy: 0.8745\n",
      "Epoch 18/40\n",
      "30/30 [==============================] - 1s 24ms/step - loss: 0.2553 - accuracy: 0.9125 - val_loss: 0.3139 - val_accuracy: 0.8781\n",
      "Epoch 19/40\n",
      "30/30 [==============================] - 1s 21ms/step - loss: 0.2426 - accuracy: 0.9174 - val_loss: 0.3073 - val_accuracy: 0.8792\n",
      "Epoch 20/40\n",
      "30/30 [==============================] - 1s 17ms/step - loss: 0.2312 - accuracy: 0.9203 - val_loss: 0.3028 - val_accuracy: 0.8805\n",
      "Epoch 21/40\n",
      "30/30 [==============================] - 0s 15ms/step - loss: 0.2212 - accuracy: 0.9235 - val_loss: 0.2980 - val_accuracy: 0.8825\n",
      "Epoch 22/40\n",
      "30/30 [==============================] - 0s 14ms/step - loss: 0.2114 - accuracy: 0.9279 - val_loss: 0.2946 - val_accuracy: 0.8814\n",
      "Epoch 23/40\n",
      "30/30 [==============================] - 0s 14ms/step - loss: 0.2024 - accuracy: 0.9306 - val_loss: 0.2916 - val_accuracy: 0.8835\n",
      "Epoch 24/40\n",
      "30/30 [==============================] - 0s 14ms/step - loss: 0.1941 - accuracy: 0.9341 - val_loss: 0.2893 - val_accuracy: 0.8842\n",
      "Epoch 25/40\n",
      "30/30 [==============================] - 0s 11ms/step - loss: 0.1861 - accuracy: 0.9373 - val_loss: 0.2875 - val_accuracy: 0.8847\n",
      "Epoch 26/40\n",
      "30/30 [==============================] - 0s 11ms/step - loss: 0.1791 - accuracy: 0.9417 - val_loss: 0.2861 - val_accuracy: 0.8859\n",
      "Epoch 27/40\n",
      "30/30 [==============================] - 0s 14ms/step - loss: 0.1719 - accuracy: 0.9449 - val_loss: 0.2856 - val_accuracy: 0.8854\n",
      "Epoch 28/40\n",
      "30/30 [==============================] - 1s 25ms/step - loss: 0.1653 - accuracy: 0.9469 - val_loss: 0.2852 - val_accuracy: 0.8840\n",
      "Epoch 29/40\n",
      "30/30 [==============================] - 1s 23ms/step - loss: 0.1593 - accuracy: 0.9501 - val_loss: 0.2849 - val_accuracy: 0.8845\n",
      "Epoch 30/40\n",
      "30/30 [==============================] - 0s 16ms/step - loss: 0.1532 - accuracy: 0.9515 - val_loss: 0.2844 - val_accuracy: 0.8847\n",
      "Epoch 31/40\n",
      "30/30 [==============================] - 0s 16ms/step - loss: 0.1476 - accuracy: 0.9551 - val_loss: 0.2858 - val_accuracy: 0.8848\n",
      "Epoch 32/40\n",
      "30/30 [==============================] - 0s 13ms/step - loss: 0.1423 - accuracy: 0.9566 - val_loss: 0.2858 - val_accuracy: 0.8858\n",
      "Epoch 33/40\n",
      "30/30 [==============================] - 0s 16ms/step - loss: 0.1371 - accuracy: 0.9591 - val_loss: 0.2864 - val_accuracy: 0.8861\n",
      "Epoch 34/40\n",
      "30/30 [==============================] - 0s 16ms/step - loss: 0.1323 - accuracy: 0.9612 - val_loss: 0.2880 - val_accuracy: 0.8857\n",
      "Epoch 35/40\n",
      "30/30 [==============================] - 0s 13ms/step - loss: 0.1277 - accuracy: 0.9629 - val_loss: 0.2891 - val_accuracy: 0.8851\n",
      "Epoch 36/40\n",
      "30/30 [==============================] - 0s 15ms/step - loss: 0.1233 - accuracy: 0.9653 - val_loss: 0.2908 - val_accuracy: 0.8850\n",
      "Epoch 37/40\n",
      "30/30 [==============================] - 0s 15ms/step - loss: 0.1190 - accuracy: 0.9672 - val_loss: 0.2924 - val_accuracy: 0.8860\n",
      "Epoch 38/40\n",
      "30/30 [==============================] - 1s 21ms/step - loss: 0.1149 - accuracy: 0.9682 - val_loss: 0.2944 - val_accuracy: 0.8857\n",
      "Epoch 39/40\n",
      "30/30 [==============================] - 1s 20ms/step - loss: 0.1112 - accuracy: 0.9693 - val_loss: 0.2966 - val_accuracy: 0.8845\n",
      "Epoch 40/40\n",
      "30/30 [==============================] - 1s 18ms/step - loss: 0.1071 - accuracy: 0.9713 - val_loss: 0.2987 - val_accuracy: 0.8845\n"
     ]
    }
   ],
   "source": [
    "history = model.fit(partial_x_train,\n",
    "                    partial_y_train,\n",
    "                    epochs=40,\n",
    "                    batch_size=512,\n",
    "                    validation_data=(x_val, y_val),\n",
    "                    verbose=1)"
   ]
  },
  {
   "cell_type": "code",
   "execution_count": 19,
   "id": "97a590ea",
   "metadata": {},
   "outputs": [
    {
     "name": "stdout",
     "output_type": "stream",
     "text": [
      "782/782 - 1s - loss: 0.3181 - accuracy: 0.8741 - 905ms/epoch - 1ms/step\n",
      "[0.31805506348609924, 0.8740800023078918]\n"
     ]
    }
   ],
   "source": [
    "results = model.evaluate(test_data,  test_labels, verbose=2)\n",
    "\n",
    "print(results)"
   ]
  },
  {
   "cell_type": "code",
   "execution_count": 20,
   "id": "8e3346a4",
   "metadata": {},
   "outputs": [
    {
     "data": {
      "text/plain": [
       "dict_keys(['loss', 'accuracy', 'val_loss', 'val_accuracy'])"
      ]
     },
     "execution_count": 20,
     "metadata": {},
     "output_type": "execute_result"
    }
   ],
   "source": [
    "history_dict = history.history\n",
    "history_dict.keys()"
   ]
  },
  {
   "cell_type": "code",
   "execution_count": 21,
   "id": "9d2e375e",
   "metadata": {},
   "outputs": [
    {
     "data": {
      "image/png": "[encoded data removed]",
      "text/plain": [
       "<Figure size 432x288 with 1 Axes>"
      ]
     },
     "metadata": {
      "needs_background": "light"
     },
     "output_type": "display_data"
    }
   ],
   "source": [
    "import matplotlib.pyplot as plt\n",
    "\n",
    "acc = history_dict['accuracy']\n",
    "val_acc = history_dict['val_accuracy']\n",
    "loss = history_dict['loss']\n",
    "val_loss = history_dict['val_loss']\n",
    "\n",
    "epochs = range(1, len(acc) + 1)\n",
    "\n",
    "# \"bo\"는 \"파란색 점\"입니다\n",
    "plt.plot(epochs, loss, 'bo', label='Training loss')\n",
    "# b는 \"파란 실선\"입니다\n",
    "plt.plot(epochs, val_loss, 'b', label='Validation loss')\n",
    "plt.title('Training and validation loss')\n",
    "plt.xlabel('Epochs')\n",
    "plt.ylabel('Loss')\n",
    "plt.legend()\n",
    "\n",
    "plt.show()"
   ]
  },
  {
   "cell_type": "code",
   "execution_count": 22,
   "id": "5c73d655",
   "metadata": {},
   "outputs": [
    {
     "data": {
      "image/png": "[encoded data removed]",
      "text/plain": [
       "<Figure size 432x288 with 1 Axes>"
      ]
     },
     "metadata": {
      "needs_background": "light"
     },
     "output_type": "display_data"
    }
   ],
   "source": [
    "plt.clf()   # 그림을 초기화합니다\n",
    "\n",
    "plt.plot(epochs, acc, 'bo', label='Training acc')\n",
    "plt.plot(epochs, val_acc, 'b', label='Validation acc')\n",
    "plt.title('Training and validation accuracy')\n",
    "plt.xlabel('Epochs')\n",
    "plt.ylabel('Accuracy')\n",
    "plt.legend()\n",
    "\n",
    "plt.show()"
   ]
  },
  {
   "cell_type": "code",
   "execution_count": null,
   "id": "94d9a690",
   "metadata": {},
   "outputs": [],
   "source": []
  }
 ],
 "metadata": {
  "kernelspec": {
   "display_name": "Python 3 (ipykernel)",
   "language": "python",
   "name": "python3"
  },
  "language_info": {
   "codemirror_mode": {
    "name": "ipython",
    "version": 3
   },
   "file_extension": ".py",
   "mimetype": "text/x-python",
   "name": "python",
   "nbconvert_exporter": "python",
   "pygments_lexer": "ipython3",
   "version": "3.9.7"
  }
 },
 "nbformat": 4,
 "nbformat_minor": 5
}
